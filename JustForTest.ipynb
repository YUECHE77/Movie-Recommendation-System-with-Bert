{
 "cells": [
  {
   "cell_type": "code",
   "execution_count": 1,
   "id": "initial_id",
   "metadata": {
    "collapsed": true,
    "ExecuteTime": {
     "end_time": "2024-06-04T09:56:44.053676500Z",
     "start_time": "2024-06-04T09:56:35.717636Z"
    }
   },
   "outputs": [],
   "source": [
    "import logging\n",
    "import pandas as pd\n",
    "import numpy as np\n",
    "from sklearn.metrics.pairwise import cosine_similarity\n",
    "\n",
    "import torch\n",
    "from torch.utils.data import Dataset, DataLoader\n",
    "from transformers import AdamW\n",
    "from sentence_transformers import SentenceTransformer, InputExample, losses, evaluation, LoggingHandler\n",
    "\n",
    "import utils.rec_func as func\n",
    "import utils.utils_SBert as SBert"
   ]
  },
  {
   "cell_type": "code",
   "execution_count": 2,
   "outputs": [
    {
     "data": {
      "text/plain": "      id                        title                 AllGenres  \\\n0    862                    Toy Story   Animation,Comedy,Family   \n1   8844                      Jumanji  Adventure,Fantasy,Family   \n2  15602             Grumpier Old Men            Romance,Comedy   \n3  31357            Waiting to Exhale      Comedy,Drama,Romance   \n4  11862  Father of the Bride Part II                    Comedy   \n\n                                         AllKeywords  \n0               boy next door,toy,friendship,friends  \n1                                                     \n2   fishing,best friend,duringcreditsstinger,old men  \n3  interracial relationship,chick flick,single mo...  \n4       aging,confidence,gynecologist,midlife crisis  ",
      "text/html": "<div>\n<style scoped>\n    .dataframe tbody tr th:only-of-type {\n        vertical-align: middle;\n    }\n\n    .dataframe tbody tr th {\n        vertical-align: top;\n    }\n\n    .dataframe thead th {\n        text-align: right;\n    }\n</style>\n<table border=\"1\" class=\"dataframe\">\n  <thead>\n    <tr style=\"text-align: right;\">\n      <th></th>\n      <th>id</th>\n      <th>title</th>\n      <th>AllGenres</th>\n      <th>AllKeywords</th>\n    </tr>\n  </thead>\n  <tbody>\n    <tr>\n      <th>0</th>\n      <td>862</td>\n      <td>Toy Story</td>\n      <td>Animation,Comedy,Family</td>\n      <td>boy next door,toy,friendship,friends</td>\n    </tr>\n    <tr>\n      <th>1</th>\n      <td>8844</td>\n      <td>Jumanji</td>\n      <td>Adventure,Fantasy,Family</td>\n      <td></td>\n    </tr>\n    <tr>\n      <th>2</th>\n      <td>15602</td>\n      <td>Grumpier Old Men</td>\n      <td>Romance,Comedy</td>\n      <td>fishing,best friend,duringcreditsstinger,old men</td>\n    </tr>\n    <tr>\n      <th>3</th>\n      <td>31357</td>\n      <td>Waiting to Exhale</td>\n      <td>Comedy,Drama,Romance</td>\n      <td>interracial relationship,chick flick,single mo...</td>\n    </tr>\n    <tr>\n      <th>4</th>\n      <td>11862</td>\n      <td>Father of the Bride Part II</td>\n      <td>Comedy</td>\n      <td>aging,confidence,gynecologist,midlife crisis</td>\n    </tr>\n  </tbody>\n</table>\n</div>"
     },
     "execution_count": 2,
     "metadata": {},
     "output_type": "execute_result"
    }
   ],
   "source": [
    "movies_all_path = 'dataset/movies_with_keywords.csv'\n",
    "movies_small_path = 'dataset/movies_5000.csv'\n",
    "ratings_for_history_path = 'dataset/ratings_for_history.csv'\n",
    "ratings_for_history_small_path = 'dataset/ratings_for_history_small.csv'\n",
    "\n",
    "movies, movies_5000, ratings_for_history, ratings_for_history_small = SBert.read_in_csv(movies_all_path, movies_small_path,\n",
    "                                                                                        ratings_for_history_path, ratings_for_history_small_path)\n",
    "movies.head()"
   ],
   "metadata": {
    "collapsed": false,
    "ExecuteTime": {
     "end_time": "2024-06-04T09:59:01.689768900Z",
     "start_time": "2024-06-04T09:59:01.529202900Z"
    }
   },
   "id": "7d6a377b2d86b7e8"
  },
  {
   "cell_type": "code",
   "execution_count": 3,
   "outputs": [
    {
     "name": "stdout",
     "output_type": "stream",
     "text": [
      "cuda:0\n"
     ]
    }
   ],
   "source": [
    "device = torch.device('cuda:0' if torch.cuda.is_available() else 'cpu')\n",
    "model = SentenceTransformer('distilbert-base-nli-mean-tokens').to(device)\n",
    "print(device)"
   ],
   "metadata": {
    "collapsed": false,
    "ExecuteTime": {
     "end_time": "2024-06-04T09:59:27.360589700Z",
     "start_time": "2024-06-04T09:59:22.523224900Z"
    }
   },
   "id": "8f41ab4bd76138b9"
  },
  {
   "cell_type": "code",
   "execution_count": 4,
   "outputs": [
    {
     "data": {
      "text/plain": "Batches:   0%|          | 0/157 [00:00<?, ?it/s]",
      "application/vnd.jupyter.widget-view+json": {
       "version_major": 2,
       "version_minor": 0,
       "model_id": "a0b36afa3e85416f97e533641d98835c"
      }
     },
     "metadata": {},
     "output_type": "display_data"
    }
   ],
   "source": [
    "embeddings = SBert.embed_sentences(movies_=movies_5000, model_=model)"
   ],
   "metadata": {
    "collapsed": false,
    "ExecuteTime": {
     "end_time": "2024-06-04T10:00:46.223939400Z",
     "start_time": "2024-06-04T10:00:39.046186Z"
    }
   },
   "id": "a383598505080fd2"
  },
  {
   "cell_type": "markdown",
   "source": [
    "# Test my functions"
   ],
   "metadata": {
    "collapsed": false
   },
   "id": "f2bfba8935cbd67d"
  },
  {
   "cell_type": "code",
   "execution_count": 5,
   "outputs": [
    {
     "name": "stdout",
     "output_type": "stream",
     "text": [
      "The movie 888: Team America: World Police \t Genres: Music,Adventure,Animation,Action,Comedy\n",
      "\n",
      "Top 5 recommendations:\n",
      "1214.  United 93                           Genres: Drama,History,Crime,Thriller,Action\n",
      "4932.  American Wrestler: The Wizard       Genres: Drama\n",
      "499.   The Big Brawl                       Genres: Action,Comedy\n",
      "54.    RoboCop 3                           Genres: Action,Adventure,Crime,Science Fiction,Thriller\n",
      "2593.  Hot Rods To Hell                    Genres: Action,Thriller\n"
     ]
    }
   ],
   "source": [
    "func.recommend_movies_with_index(movies_5000, embeddings, 888, 5)"
   ],
   "metadata": {
    "collapsed": false,
    "ExecuteTime": {
     "end_time": "2024-06-04T10:01:19.605168300Z",
     "start_time": "2024-06-04T10:01:19.570512Z"
    }
   },
   "id": "50f00d1e2a57d9c2"
  },
  {
   "cell_type": "code",
   "execution_count": 6,
   "outputs": [
    {
     "name": "stdout",
     "output_type": "stream",
     "text": [
      "Top 5 recommendations:\n",
      "2521.  The Art of War III: Retribution     Genres: Adventure,Action,Thriller\n",
      "1214.  United 93                           Genres: Drama,History,Crime,Thriller,Action\n",
      "1715.  Inception                           Genres: Action,Thriller,Science Fiction,Mystery,Adventure\n",
      "348.   Railroaded!                         Genres: Drama,Thriller\n",
      "3281.  Agente Logan - missione Ypotron     Genres: Action,Adventure,Crime,Science Fiction,Thriller\n"
     ]
    }
   ],
   "source": [
    "inputs = ['Calling Dr. Death', 'Rambo III', 'Morituri', 'Farscape: The Peacekeeper Wars']\n",
    "func.recommend_movies_with_titles(inputs, movies_5000, embeddings, model_=model, k=5)"
   ],
   "metadata": {
    "collapsed": false,
    "ExecuteTime": {
     "end_time": "2024-06-04T10:01:20.868850300Z",
     "start_time": "2024-06-04T10:01:20.825354Z"
    }
   },
   "id": "d7f62583a986b49a"
  },
  {
   "cell_type": "code",
   "execution_count": 7,
   "outputs": [
    {
     "name": "stdout",
     "output_type": "stream",
     "text": [
      "Those movies are not in our Database currently, but we can recommend you the following: \n",
      "\n",
      "Top 5 recommendations:\n",
      "4017.  Ellen ten Damme: As I Was Wondering Where This Mixed-up Little Life of Mine Was Leading To Genres: Documentary\n",
      "819.   After the Rehearsal                 Genres: Drama\n",
      "3249.  Doug Stanhope: Before Turning the Gun on Himself Genres: \n",
      "4554.  Finishing School                    Genres: Drama\n",
      "4655.  Mumford & Sons: We Wrote This Yesterday Genres: Documentary\n"
     ]
    }
   ],
   "source": [
    "inputs_2 = ['A movie I just made up', 'Only for the test']\n",
    "func.recommend_movies_with_titles(inputs_2, movies_5000, embeddings, model_=model, k=5)"
   ],
   "metadata": {
    "collapsed": false,
    "ExecuteTime": {
     "end_time": "2024-06-04T10:01:21.909948200Z",
     "start_time": "2024-06-04T10:01:21.811079800Z"
    }
   },
   "id": "3fd033af37844381"
  },
  {
   "cell_type": "code",
   "execution_count": 8,
   "outputs": [
    {
     "name": "stdout",
     "output_type": "stream",
     "text": [
      "Top 5 recommendations:\n",
      "102.   Beat the Devil                      Genres: Action,Adventure,Comedy,Crime,Drama,Romance\n",
      "1387.  St. Ives                            Genres: Crime,Action,Thriller,Mystery\n",
      "907.   The Ghoul                           Genres: Romance,Drama,Horror,Action,Mystery\n",
      "1049.  Gozu                                Genres: Action,Crime,Thriller,Horror\n",
      "144.   City of Industry                    Genres: Crime,Thriller,Drama\n"
     ]
    }
   ],
   "source": [
    "UserId = '17'\n",
    "func.recommend_movies_with_history(UserId, ratings_for_history_small, movies_5000, embeddings, model_=model, k=5, m=10)"
   ],
   "metadata": {
    "collapsed": false,
    "ExecuteTime": {
     "end_time": "2024-06-04T10:01:23.181571200Z",
     "start_time": "2024-06-04T10:01:23.132247Z"
    }
   },
   "id": "864ee09946ae0194"
  },
  {
   "cell_type": "code",
   "execution_count": 9,
   "outputs": [
    {
     "name": "stdout",
     "output_type": "stream",
     "text": [
      "Top 5 recommendations:\n",
      "97.    Charade                             Genres: Comedy,Mystery,Romance,Thriller\n",
      "2518.  Omar                                Genres: Thriller,Drama,Romance\n",
      "1464.  Loft                                Genres: Drama,Mystery,Romance,Thriller\n",
      "4194.  Rajathandhiram                      Genres: Romance,Crime,Drama,Thriller,Comedy\n",
      "450.   The Body                            Genres: Drama,Mystery,Romance,Thriller\n"
     ]
    },
    {
     "data": {
      "text/plain": "['Charade', 'Omar', 'Loft', 'Rajathandhiram', 'The Body']"
     },
     "execution_count": 9,
     "metadata": {},
     "output_type": "execute_result"
    }
   ],
   "source": [
    "genres = ['Thriller', 'Crime', 'Comedy', 'Romance']\n",
    "rec_movies = func.genres_to_movies(genres, model_=model, movies_=movies_5000, embeddings=embeddings, k=5)\n",
    "rec_movies"
   ],
   "metadata": {
    "collapsed": false,
    "ExecuteTime": {
     "end_time": "2024-06-04T10:01:24.135622800Z",
     "start_time": "2024-06-04T10:01:24.055979800Z"
    }
   },
   "id": "c157a384cf446c50"
  },
  {
   "cell_type": "markdown",
   "source": [
    "# Prepare for training"
   ],
   "metadata": {
    "collapsed": false
   },
   "id": "50c0971f32466a3a"
  },
  {
   "cell_type": "code",
   "execution_count": 10,
   "outputs": [
    {
     "name": "stdout",
     "output_type": "stream",
     "text": [
      "There are 4950 data points in total\n"
     ]
    }
   ],
   "source": [
    "examples_train = SBert.generate_data(movies_=movies, num=100)\n",
    "examples_val = SBert.generate_data(movies_=movies, num=30)\n",
    "\n",
    "SBert.get_datapoints_num(examples_train)"
   ],
   "metadata": {
    "collapsed": false,
    "ExecuteTime": {
     "end_time": "2024-06-04T10:04:16.885347800Z",
     "start_time": "2024-06-04T10:04:16.593315Z"
    }
   },
   "id": "e8c651676614f608"
  },
  {
   "cell_type": "code",
   "execution_count": 11,
   "outputs": [
    {
     "name": "stdout",
     "output_type": "stream",
     "text": [
      "310\n"
     ]
    }
   ],
   "source": [
    "train_loader = SBert.load_dataset(examples_train, 16)\n",
    "\n",
    "print(len(train_loader))"
   ],
   "metadata": {
    "collapsed": false,
    "ExecuteTime": {
     "end_time": "2024-06-04T10:05:31.499139700Z",
     "start_time": "2024-06-04T10:05:31.481310800Z"
    }
   },
   "id": "d13744d9c4a4da33"
  },
  {
   "cell_type": "code",
   "execution_count": 12,
   "outputs": [
    {
     "data": {
      "text/plain": "<sentence_transformers.evaluation.EmbeddingSimilarityEvaluator.EmbeddingSimilarityEvaluator at 0x25912718dd0>"
     },
     "execution_count": 12,
     "metadata": {},
     "output_type": "execute_result"
    }
   ],
   "source": [
    "evaluator = SBert.get_evaluator(examples_val, 'evaluator1')\n",
    "evaluator"
   ],
   "metadata": {
    "collapsed": false,
    "ExecuteTime": {
     "end_time": "2024-06-04T10:06:06.691950200Z",
     "start_time": "2024-06-04T10:06:06.662262Z"
    }
   },
   "id": "a20d23552b949c8"
  },
  {
   "cell_type": "markdown",
   "source": [
    "# Train now"
   ],
   "metadata": {
    "collapsed": false
   },
   "id": "42ba3e208479946c"
  },
  {
   "cell_type": "code",
   "execution_count": 13,
   "outputs": [],
   "source": [
    "logging.basicConfig(format='%(asctime)s - %(message)s',\n",
    "                    datefmt='%Y-%m-%d %H:%M:%S',\n",
    "                    level=logging.INFO,\n",
    "                    handlers=[LoggingHandler()])"
   ],
   "metadata": {
    "collapsed": false,
    "ExecuteTime": {
     "end_time": "2024-06-04T10:07:01.487848500Z",
     "start_time": "2024-06-04T10:07:01.469144600Z"
    }
   },
   "id": "d17ccbad84ac00e1"
  },
  {
   "cell_type": "code",
   "execution_count": 14,
   "outputs": [],
   "source": [
    "train_loss = losses.CosineSimilarityLoss(model=model)"
   ],
   "metadata": {
    "collapsed": false,
    "ExecuteTime": {
     "end_time": "2024-06-04T10:07:28.306595500Z",
     "start_time": "2024-06-04T10:07:28.295512400Z"
    }
   },
   "id": "f4a25f726fd09109"
  },
  {
   "cell_type": "code",
   "execution_count": null,
   "outputs": [],
   "source": [
    "model.fit(\n",
    "    train_objectives=[(train_loader, train_loss)],\n",
    "    evaluator=evaluator,\n",
    "    epochs=5,\n",
    "    warmup_steps=100,\n",
    "    optimizer_class=torch.optim.AdamW,\n",
    "    optimizer_params={'lr': 1e-6},\n",
    "    evaluation_steps=100,\n",
    "    output_path='logs/Sentence_Bert/training_nli_distilbert-model'\n",
    ")"
   ],
   "metadata": {
    "collapsed": false
   },
   "id": "78b62d40fc2bf67a"
  }
 ],
 "metadata": {
  "kernelspec": {
   "name": "ee541",
   "language": "python",
   "display_name": "EE541"
  },
  "language_info": {
   "codemirror_mode": {
    "name": "ipython",
    "version": 2
   },
   "file_extension": ".py",
   "mimetype": "text/x-python",
   "name": "python",
   "nbconvert_exporter": "python",
   "pygments_lexer": "ipython2",
   "version": "2.7.6"
  }
 },
 "nbformat": 4,
 "nbformat_minor": 5
}
